{
 "cells": [
  {
   "cell_type": "code",
   "execution_count": 3,
   "metadata": {},
   "outputs": [],
   "source": [
    "import os\n",
    "import pandas as pd\n",
    "\n",
    "# modified visualpriors library\n",
    "from transforms import VisualPriorRepresentation\n",
    "\n",
    "from classes_analyse_nodes import (\n",
    "    ImageDataset,\n",
    "    Pattern_Generator,\n",
    "    Activation_Pattern,\n",
    "    correlate_activation_patterns,\n",
    "    calculate_dataset_metrics,\n",
    "    taskonomy_activation_layer_shapes,\n",
    "    )\n",
    "\n",
    "import torch\n",
    "import torch.utils.model_zoo # required to load nets\n",
    "from torchvision.models.feature_extraction import get_graph_node_names, create_feature_extractor"
   ]
  },
  {
   "cell_type": "code",
   "execution_count": 4,
   "metadata": {},
   "outputs": [],
   "source": [
    "DATASET_NAMES = ('places1', 'places2', 'oasis')\n",
    "SCALE_NAMES = ('scale2','scale4','scale8','scale16','scale32')"
   ]
  },
  {
   "cell_type": "code",
   "execution_count": 5,
   "metadata": {},
   "outputs": [],
   "source": [
    "DATA_PATH = './data_256x256'\n",
    "BEHAVIOR_PATH = './behavior'\n",
    "RESULTS_PATH = './results_taskonomy'"
   ]
  },
  {
   "cell_type": "code",
   "execution_count": 6,
   "metadata": {},
   "outputs": [],
   "source": [
    "#VisualPrior.viable_feature_tasks\n",
    "MODEL_NAMES = ('autoencoding','depth_euclidean','jigsaw','reshading',\n",
    "               'edge_occlusion','keypoints2d','room_layout', #'colorization' currently not working\n",
    "               'curvature','edge_texture','keypoints3d','segment_unsup2d',\n",
    "               'class_object','egomotion','nonfixated_pose','segment_unsup25d',\n",
    "               'class_scene','fixated_pose','normal','segment_semantic',\n",
    "               'denoising','inpainting','point_matching','vanishing_point')"
   ]
  },
  {
   "cell_type": "code",
   "execution_count": 7,
   "metadata": {},
   "outputs": [],
   "source": [
    "IMAGE_TRANSFORMS = ('untransformed')"
   ]
  },
  {
   "cell_type": "code",
   "execution_count": 8,
   "metadata": {},
   "outputs": [],
   "source": [
    "# get example activation to retrieve activation shape to init Pattern_Genrator\n",
    "\n",
    "#setup net\n",
    "model_name = MODEL_NAMES[0]\n",
    "VisualPriorRepresentation._load_unloaded_nets([model_name])\n",
    "net = VisualPriorRepresentation.feature_task_to_net[model_name]\n",
    "\n",
    "#setup activation extractor\n",
    "_, eval_nodes = get_graph_node_names(net)\n",
    "return_nodes = { node:node for node in eval_nodes if \"conv\" in node or 'fc' in node}\n",
    "activation_extractor = create_feature_extractor(net, return_nodes=return_nodes)\n",
    "\n",
    "#setup dummy image\n",
    "dataset = ImageDataset(os.path.join(DATA_PATH, DATASET_NAMES[0], SCALE_NAMES[0]))\n",
    "dummy_image = next(iter(dataset))\n",
    "net_activation = activation_extractor(dummy_image[0])\n",
    "\n",
    "#get activation shape\n",
    "activation_shapes = taskonomy_activation_layer_shapes(net_activation)"
   ]
  },
  {
   "cell_type": "code",
   "execution_count": 9,
   "metadata": {},
   "outputs": [],
   "source": [
    "pat = Pattern_Generator(1, activation_shapes, .22)\n",
    "pattern = pat.get_subset_pattern(0)"
   ]
  },
  {
   "cell_type": "code",
   "execution_count": 10,
   "metadata": {},
   "outputs": [
    {
     "data": {
      "text/plain": [
       "torch.Size([1, 64, 128, 128])"
      ]
     },
     "execution_count": 10,
     "metadata": {},
     "output_type": "execute_result"
    }
   ],
   "source": [
    "net_activation['conv1'].shape"
   ]
  },
  {
   "cell_type": "code",
   "execution_count": 11,
   "metadata": {},
   "outputs": [
    {
     "data": {
      "text/plain": [
       "torch.Size([1, 64, 128, 128])"
      ]
     },
     "execution_count": 11,
     "metadata": {},
     "output_type": "execute_result"
    }
   ],
   "source": [
    "list(pattern.values())[0].shape"
   ]
  },
  {
   "cell_type": "code",
   "execution_count": 12,
   "metadata": {},
   "outputs": [],
   "source": [
    "act = Activation_Pattern(net_activation)\n",
    "act[pattern];"
   ]
  },
  {
   "cell_type": "code",
   "execution_count": 13,
   "metadata": {},
   "outputs": [
    {
     "data": {
      "text/plain": [
       "{'conv1': 0.9999999999999982,\n",
       " 'layer1.0.conv1': 1.0,\n",
       " 'layer1.0.conv2': 0.9999999999999993,\n",
       " 'layer1.0.conv3': 0.9999999999999978,\n",
       " 'layer1.1.conv1': 1.0,\n",
       " 'layer1.1.conv2': 1.0,\n",
       " 'layer1.1.conv3': 0.9999999999999976,\n",
       " 'layer1.2.conv1': 0.9999999999999992,\n",
       " 'layer1.2.conv2': 1.0,\n",
       " 'layer1.2.conv3': 1.0,\n",
       " 'layer2.0.conv1': 0.9999999999999998,\n",
       " 'layer2.0.conv2': 1.0,\n",
       " 'layer2.0.conv3': 0.9999999999999993,\n",
       " 'layer2.1.conv1': 0.9999999999999992,\n",
       " 'layer2.1.conv2': 1.0,\n",
       " 'layer2.1.conv3': 1.0,\n",
       " 'layer2.2.conv1': 0.9999999999999989,\n",
       " 'layer2.2.conv2': 1.0,\n",
       " 'layer2.2.conv3': 0.9999999999999994,\n",
       " 'layer2.3.conv1': 0.9999999999999996,\n",
       " 'layer2.3.conv2': 0.9999999999999996,\n",
       " 'layer2.3.conv3': 1.0,\n",
       " 'layer3.0.conv1': 0.9999999999999993,\n",
       " 'layer3.0.conv2': 0.9999999999999998,\n",
       " 'layer3.0.conv3': 1.0,\n",
       " 'layer3.1.conv1': 0.9999999999999991,\n",
       " 'layer3.1.conv2': 0.9999999999999998,\n",
       " 'layer3.1.conv3': 1.0,\n",
       " 'layer3.2.conv1': 0.999999999999998,\n",
       " 'layer3.2.conv2': 1.0,\n",
       " 'layer3.2.conv3': 0.9999999999999999,\n",
       " 'layer3.3.conv1': 0.9999999999999971,\n",
       " 'layer3.3.conv2': 0.9999999999999984,\n",
       " 'layer3.3.conv3': 0.9999999999999998,\n",
       " 'layer3.4.conv1': 1.0,\n",
       " 'layer3.4.conv2': 1.0,\n",
       " 'layer3.4.conv3': 1.0,\n",
       " 'layer3.5.conv1': 1.0,\n",
       " 'layer3.5.conv2': 1.0,\n",
       " 'layer3.5.conv3': 1.0,\n",
       " 'layer4.0.conv1': 0.999999999999999,\n",
       " 'layer4.0.conv2': 1.0,\n",
       " 'layer4.0.conv3': 0.9999999999999989,\n",
       " 'layer4.1.conv1': 0.9999999999999947,\n",
       " 'layer4.1.conv2': 1.0,\n",
       " 'layer4.1.conv3': 0.9999999999999991,\n",
       " 'layer4.2.conv1': 0.9999999999999943,\n",
       " 'layer4.2.conv2': 1.0,\n",
       " 'layer4.2.conv3': 0.9999999999999999}"
      ]
     },
     "execution_count": 13,
     "metadata": {},
     "output_type": "execute_result"
    }
   ],
   "source": [
    "correlate_activation_patterns(act[pattern], act[pattern])"
   ]
  },
  {
   "cell_type": "code",
   "execution_count": 15,
   "metadata": {},
   "outputs": [],
   "source": [
    "import numpy as np\n",
    "x = pd.DataFrame(np.full((3,2), np.nan), dtype=float)"
   ]
  },
  {
   "cell_type": "code",
   "execution_count": 16,
   "metadata": {},
   "outputs": [],
   "source": [
    "from collections import OrderedDict\n",
    "\n",
    "class IntegrationStorage(object):\n",
    "    \"\"\"Handle storing results\n",
    "    \n",
    "    1 dataframe per network layer:\n",
    "        - images x iterations\n",
    "    \"\"\"\n",
    "    \n",
    "    def __init__(self, layer_names: list, num_images: int, num_subsets: int) -> None:\n",
    "        \"\"\"\n",
    "        Each layer has a seperate DataFrame with images X subsets.\n",
    "        \"\"\"\n",
    "        self.data = OrderedDict(\n",
    "            (layer_name, pd.DataFrame(np.full((num_images, num_subsets), np.nan), dtype=float))\n",
    "            for layer_name in layer_names)\n",
    "        \n",
    "    def insert_subset_data(self, image_id: int, subset_id: int, integration_values: dict):\n",
    "        \"\"\"\n",
    "        Insert integration values of one image in each layer.\n",
    "        \"\"\"\n",
    "        for layer_name in self.data.keys():\n",
    "            self.data[layer_name].iloc[image_id, subset_id] = integration_values[layer_name]\n"
   ]
  },
  {
   "cell_type": "code",
   "execution_count": null,
   "metadata": {},
   "outputs": [],
   "source": []
  },
  {
   "cell_type": "code",
   "execution_count": null,
   "metadata": {},
   "outputs": [],
   "source": [
    "# network, fixed-scale, dataset\n",
    "\n",
    "#geneate 100 000 random node-subsets\n",
    "#set up datastructures for saving integration measures\n",
    "\n",
    "# iterate iamges\n",
    "    #compute image activation, layerwise (store in class Activation_Pattern)\n",
    "\n",
    "    # iterate node-subsets\n",
    "        #retrieve random pattern layerwise (class Pattern_Generator)\n",
    "        #get integration values for random pattern, layerwise (class Activation_Pattern)\n",
    "        #save integration value in corresponding datastructure\n",
    "\n",
    "#compute integration and beauty for every node-subset"
   ]
  },
  {
   "cell_type": "markdown",
   "metadata": {},
   "source": [
    "# full analysis"
   ]
  },
  {
   "cell_type": "code",
   "execution_count": null,
   "metadata": {},
   "outputs": [],
   "source": [
    "for model_name in MODEL_NAMES:\n",
    "    print(model_name)\n",
    "\n",
    "    # Import taskonomy model...\n",
    "    VisualPriorRepresentation._load_unloaded_nets([model_name])\n",
    "    net = VisualPriorRepresentation.feature_task_to_net[model_name]\n",
    "    \n",
    "    # ...and create activation extractor from it\n",
    "    _, eval_nodes = get_graph_node_names(net)\n",
    "    return_nodes = { node:node for node in eval_nodes if \"conv\" in node or 'fc' in node}\n",
    "    activation_extractor = create_feature_extractor(net, return_nodes=return_nodes)\n",
    "\n",
    "\n",
    "    for dataset_name in DATASET_NAMES:\n",
    "        print(dataset_name)\n",
    "\n",
    "        for scale_name in SCALE_NAMES:\n",
    "            \n",
    "            dataset = ImageDataset(\n",
    "                os.path.join(DATA_PATH, dataset_name, scale_name))\n",
    "                        \n",
    "            correlations, selfsimilarity, l2norm = calculate_dataset_metrics(dataset, activation_extractor)\n",
    "            \n",
    "            correlations.fillna(correlations.mean())\n",
    "            selfsimilarity.fillna(selfsimilarity.mean())\n",
    "            l2norm.fillna(l2norm.mean())\n",
    "            \n",
    "            correlations.to_csv(os.path.join(RESULTS_PATH, model_name, dataset_name, scale_name, 'correlations.csv'), index=False, header=False)\n",
    "            selfsimilarity.to_csv(os.path.join(RESULTS_PATH, model_name, dataset_name, scale_name, 'selfsimilarity.csv'), index=False, header=False)           \n",
    "            l2norm.to_csv(os.path.join(RESULTS_PATH, model_name, dataset_name, scale_name, 'l2norm.csv'), index=False, header=False)"
   ]
  }
 ],
 "metadata": {
  "kernelspec": {
   "display_name": "PytorchEnv",
   "language": "python",
   "name": "python3"
  },
  "language_info": {
   "codemirror_mode": {
    "name": "ipython",
    "version": 3
   },
   "file_extension": ".py",
   "mimetype": "text/x-python",
   "name": "python",
   "nbconvert_exporter": "python",
   "pygments_lexer": "ipython3",
   "version": "3.8.19"
  }
 },
 "nbformat": 4,
 "nbformat_minor": 2
}
