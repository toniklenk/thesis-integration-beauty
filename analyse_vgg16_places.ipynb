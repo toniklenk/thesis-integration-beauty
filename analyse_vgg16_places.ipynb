{
 "cells": [
  {
   "cell_type": "code",
   "execution_count": 1,
   "metadata": {},
   "outputs": [],
   "source": [
    "import os\n",
    "import collections\n",
    "import numpy as np\n",
    "import pandas as pd\n",
    "import classes\n",
    "import torchsummary\n",
    "import matplotlib.pyplot as plt\n",
    "\n",
    "from scipy.io import savemat, loadmat\n",
    "\n",
    "import torch\n",
    "import torchvision.io\n",
    "from torch import nn\n",
    "from torchvision.models.feature_extraction import get_graph_node_names, create_feature_extractor\n",
    "\n",
    "#import torch.utils.model_zoo # required to load nets\n",
    "#import torchvision.transforms.functional as TF\n",
    "#import torchvision.models\n",
    "\n",
    "#%load_ext autoreload\n",
    "#%autoreload 2"
   ]
  },
  {
   "cell_type": "code",
   "execution_count": 2,
   "metadata": {},
   "outputs": [
    {
     "data": {
      "text/plain": [
       "'\\nTo check that the implementation of the code is correct, the analysis of vgg16_playes net is repeated here,\\nwhich should reproduce the same results as in the matlab implementation.\\n\\nThe boilerplate code for this is a bit different, since the vgg16_places model is imported from a different source\\nand in a different format than the Taskonomy models.\\n\\nAs soon as the model is brought into the right format, the analysis steps are the same in principle.\\n'"
      ]
     },
     "execution_count": 2,
     "metadata": {},
     "output_type": "execute_result"
    }
   ],
   "source": [
    "\"\"\"\n",
    "To check that the implementation of the code is correct, the analysis of vgg16_playes net is repeated here,\n",
    "which should reproduce the same results as in the matlab implementation.\n",
    "\n",
    "The boilerplate code for this is a bit different, since the vgg16_places model is imported from a different source\n",
    "and in a different format than the Taskonomy models.\n",
    "\n",
    "As soon as the model is brought into the right format, the analysis steps are the same in principle.\n",
    "\"\"\""
   ]
  },
  {
   "cell_type": "markdown",
   "metadata": {},
   "source": [
    "# Prepare VGG16_places365"
   ]
  },
  {
   "cell_type": "markdown",
   "metadata": {},
   "source": [
    "## Import parameters into replicated architecture"
   ]
  },
  {
   "cell_type": "code",
   "execution_count": 2,
   "metadata": {},
   "outputs": [],
   "source": [
    "vgg16_places = nn.Sequential(\n",
    "    collections.OrderedDict(\n",
    "        [\n",
    "            ('conv1_1', nn.Conv2d(in_channels=3, out_channels=64, kernel_size=3, stride=1, padding=1)),\n",
    "            ('ReLU1_1', nn.ReLU()),\n",
    "            ('conv1_2', nn.Conv2d(in_channels=64, out_channels=64, kernel_size=3, stride=1, padding=1)),\n",
    "            ('ReLU1_2',nn.ReLU()),\n",
    "            ('MaxPool1', nn.MaxPool2d(kernel_size=2, stride=2,padding=0)),\n",
    "            ('conv2_1',nn.Conv2d(in_channels=64, out_channels=128, kernel_size=3, stride=1, padding=1)),\n",
    "            ('ReLU2_1',nn.ReLU()),\n",
    "            ('conv2_2',nn.Conv2d(in_channels=128, out_channels=128, kernel_size=3, stride=1, padding=1)),\n",
    "            ('ReLU2_2',nn.ReLU()),\n",
    "            ('MaxPool2', nn.MaxPool2d(kernel_size=2, stride=2,padding=0)),\n",
    "            ('conv3_1', nn.Conv2d(in_channels=128, out_channels=256, kernel_size=3, stride=1, padding=1)),\n",
    "            ('ReLU3_1',nn.ReLU()),\n",
    "            ('conv3_2', nn.Conv2d(in_channels=256, out_channels=256, kernel_size=3, stride=1, padding=1)),\n",
    "            ('ReLU3_2',nn.ReLU()),\n",
    "            ('conv3_3', nn.Conv2d(in_channels=256, out_channels=256, kernel_size=3, stride=1, padding=1)),\n",
    "            ('ReLU3_3',nn.ReLU()),\n",
    "            ('MaxPool3', nn.MaxPool2d(kernel_size=2, stride=2,padding=0)),\n",
    "            ('conv4_1', nn.Conv2d(in_channels=256, out_channels=512, kernel_size=3, stride=1, padding=1)),\n",
    "            ('ReLU4_1',nn.ReLU()),\n",
    "            ('conv4_2', nn.Conv2d(in_channels=512, out_channels=512, kernel_size=3, stride=1, padding=1)),\n",
    "            ('ReLU4_2',nn.ReLU()),\n",
    "            ('conv4_3', nn.Conv2d(in_channels=512, out_channels=512, kernel_size=3, stride=1, padding=1)),\n",
    "            ('ReLU4_3',nn.ReLU()),\n",
    "            ('MaxPool4', nn.MaxPool2d(kernel_size=2, stride=2,padding=0)),\n",
    "            ('conv5_1', nn.Conv2d(in_channels=512, out_channels=512, kernel_size=3, stride=1, padding=1)),\n",
    "            ('ReLU5_1',nn.ReLU()),\n",
    "            ('conv5_2', nn.Conv2d(in_channels=512, out_channels=512, kernel_size=3, stride=1, padding=1)),\n",
    "            ('ReLU5_2',nn.ReLU()),\n",
    "            ('conv5_3', nn.Conv2d(in_channels=512, out_channels=512, kernel_size=3, stride=1, padding=1)),\n",
    "            ('ReLU5_3',nn.ReLU()),\n",
    "            ('MaxPool5', nn.MaxPool2d(kernel_size=2, stride=2,padding=0)),\n",
    "            ('Flatten6', nn.Flatten()),\n",
    "            ('fc6', nn.Linear(in_features=25088, out_features=4096)),\n",
    "            ('ReLU6',nn.ReLU()),\n",
    "            ('fc7', nn.Linear(in_features=4096, out_features=4096)),\n",
    "            ('ReLU7',nn.ReLU()),\n",
    "            ('fc8a', nn.Linear(in_features=4096, out_features=365)),\n",
    "            ('Softmax8a', nn.Softmax(dim=-1))\n",
    "        ]\n",
    "    )\n",
    ")"
   ]
  },
  {
   "cell_type": "code",
   "execution_count": 3,
   "metadata": {},
   "outputs": [
    {
     "data": {
      "text/plain": [
       "<All keys matched successfully>"
      ]
     },
     "execution_count": 3,
     "metadata": {},
     "output_type": "execute_result"
    }
   ],
   "source": [
    "vgg16_places_statedict = torch.load('vgg16_places365.caffemodel.pt')\n",
    "vgg16_places.load_state_dict(vgg16_places_statedict)"
   ]
  },
  {
   "cell_type": "markdown",
   "metadata": {},
   "source": [
    "## Build feature(activations) extractor\n"
   ]
  },
  {
   "cell_type": "code",
   "execution_count": 25,
   "metadata": {},
   "outputs": [],
   "source": [
    "_, eval_nodes = get_graph_node_names(vgg16_places)\n",
    "#for node in eval_nodes:\n",
    "#    print(node, end='   ')\n",
    "\n",
    "return_nodes = { node:node for node in eval_nodes if \"conv\" in node or 'fc' in node}\n",
    "\n",
    "vgg16_places_fe = create_feature_extractor(vgg16_places, return_nodes=return_nodes)"
   ]
  },
  {
   "cell_type": "code",
   "execution_count": 66,
   "metadata": {},
   "outputs": [
    {
     "name": "stdout",
     "output_type": "stream",
     "text": [
      "----------------------------------------------------------------\n",
      "        Layer (type)               Output Shape         Param #\n",
      "================================================================\n",
      "            Conv2d-1         [-1, 64, 224, 224]           1,792\n",
      "              ReLU-2         [-1, 64, 224, 224]               0\n",
      "            Conv2d-3         [-1, 64, 224, 224]          36,928\n",
      "              ReLU-4         [-1, 64, 224, 224]               0\n",
      "         MaxPool2d-5         [-1, 64, 112, 112]               0\n",
      "            Conv2d-6        [-1, 128, 112, 112]          73,856\n",
      "              ReLU-7        [-1, 128, 112, 112]               0\n",
      "            Conv2d-8        [-1, 128, 112, 112]         147,584\n",
      "              ReLU-9        [-1, 128, 112, 112]               0\n",
      "        MaxPool2d-10          [-1, 128, 56, 56]               0\n",
      "           Conv2d-11          [-1, 256, 56, 56]         295,168\n",
      "             ReLU-12          [-1, 256, 56, 56]               0\n",
      "           Conv2d-13          [-1, 256, 56, 56]         590,080\n",
      "             ReLU-14          [-1, 256, 56, 56]               0\n",
      "           Conv2d-15          [-1, 256, 56, 56]         590,080\n",
      "             ReLU-16          [-1, 256, 56, 56]               0\n",
      "        MaxPool2d-17          [-1, 256, 28, 28]               0\n",
      "           Conv2d-18          [-1, 512, 28, 28]       1,180,160\n",
      "             ReLU-19          [-1, 512, 28, 28]               0\n",
      "           Conv2d-20          [-1, 512, 28, 28]       2,359,808\n",
      "             ReLU-21          [-1, 512, 28, 28]               0\n",
      "           Conv2d-22          [-1, 512, 28, 28]       2,359,808\n",
      "             ReLU-23          [-1, 512, 28, 28]               0\n",
      "        MaxPool2d-24          [-1, 512, 14, 14]               0\n",
      "           Conv2d-25          [-1, 512, 14, 14]       2,359,808\n",
      "             ReLU-26          [-1, 512, 14, 14]               0\n",
      "           Conv2d-27          [-1, 512, 14, 14]       2,359,808\n",
      "             ReLU-28          [-1, 512, 14, 14]               0\n",
      "           Conv2d-29          [-1, 512, 14, 14]       2,359,808\n",
      "             ReLU-30          [-1, 512, 14, 14]               0\n",
      "        MaxPool2d-31            [-1, 512, 7, 7]               0\n",
      "          Flatten-32                [-1, 25088]               0\n",
      "           Linear-33                 [-1, 4096]     102,764,544\n",
      "             ReLU-34                 [-1, 4096]               0\n",
      "           Linear-35                 [-1, 4096]      16,781,312\n",
      "             ReLU-36                 [-1, 4096]               0\n",
      "           Linear-37                  [-1, 365]       1,495,405\n",
      "================================================================\n",
      "Total params: 135,755,949\n",
      "Trainable params: 135,755,949\n",
      "Non-trainable params: 0\n",
      "----------------------------------------------------------------\n",
      "Input size (MB): 0.57\n",
      "Forward/backward pass size (MB): 218.71\n",
      "Params size (MB): 517.87\n",
      "Estimated Total Size (MB): 737.16\n",
      "----------------------------------------------------------------\n"
     ]
    }
   ],
   "source": [
    "torchsummary.summary(vgg16_places_fe, input_size=(3, 224, 224))"
   ]
  },
  {
   "cell_type": "markdown",
   "metadata": {},
   "source": [
    "# Integration & beauty, compare to Taskonomy "
   ]
  },
  {
   "cell_type": "markdown",
   "metadata": {},
   "source": [
    "## Calculate integration"
   ]
  },
  {
   "cell_type": "code",
   "execution_count": 2,
   "metadata": {},
   "outputs": [],
   "source": [
    "places_images = classes.ImageDataset('./data/stimuli_places1', beauty_ratings_path='./behavior/ratings_study1.csv')\n",
    "integration_calc = classes.IntegrationCalculatorVGG16(vgg16_places_fe, return_nodes)\n",
    "results_vgg16 = classes.calculate_dataset_integration(places_images, integration_calc)\n",
    "results_vgg16.to_csv('./results/vgg16_places/vgg16_places_results.csv')\n"
   ]
  },
  {
   "cell_type": "code",
   "execution_count": 6,
   "metadata": {},
   "outputs": [],
   "source": [
    "results_vgg16 = pd.read_csv('./results/vgg16_places/vgg16_places_results.csv', index_col=0)"
   ]
  },
  {
   "cell_type": "code",
   "execution_count": 9,
   "metadata": {},
   "outputs": [],
   "source": [
    "results_autoencoding = pd.read_csv('./results/autoencoding/autoencoding.csv', index_col=0)"
   ]
  },
  {
   "cell_type": "markdown",
   "metadata": {},
   "source": [
    "## Correlate integration and beauty"
   ]
  },
  {
   "cell_type": "code",
   "execution_count": 7,
   "metadata": {},
   "outputs": [
    {
     "name": "stdout",
     "output_type": "stream",
     "text": [
      "test\n"
     ]
    },
    {
     "data": {
      "text/plain": [
       "<matplotlib.axes._subplots.AxesSubplot at 0x74c8a071f3d0>"
      ]
     },
     "execution_count": 7,
     "metadata": {},
     "output_type": "execute_result"
    },
    {
     "data": {
      "image/png": "[encoded data removed]",
      "text/plain": [
       "<Figure size 432x288 with 1 Axes>"
      ]
     },
     "metadata": {
      "needs_background": "light"
     },
     "output_type": "display_data"
    }
   ],
   "source": [
    "classes.correlate_integration_beauty(results_vgg16, places_images.beauty_ratings).plot(ylim=(-.2,.8))"
   ]
  },
  {
   "cell_type": "code",
   "execution_count": 11,
   "metadata": {},
   "outputs": [
    {
     "name": "stdout",
     "output_type": "stream",
     "text": [
      "test\n"
     ]
    },
    {
     "data": {
      "text/plain": [
       "<matplotlib.axes._subplots.AxesSubplot at 0x74c8a064f5e0>"
      ]
     },
     "execution_count": 11,
     "metadata": {},
     "output_type": "execute_result"
    },
    {
     "data": {
      "image/png": "[encoded data removed]",
      "text/plain": [
       "<Figure size 432x288 with 1 Axes>"
      ]
     },
     "metadata": {
      "needs_background": "light"
     },
     "output_type": "display_data"
    }
   ],
   "source": [
    "classes.correlate_integration_beauty(results_autoencoding, places_images.beauty_ratings).plot(ylim=(-.2,.8))"
   ]
  },
  {
   "cell_type": "code",
   "execution_count": 8,
   "metadata": {},
   "outputs": [
    {
     "data": {
      "text/html": [
       "<div>\n",
       "<style scoped>\n",
       "    .dataframe tbody tr th:only-of-type {\n",
       "        vertical-align: middle;\n",
       "    }\n",
       "\n",
       "    .dataframe tbody tr th {\n",
       "        vertical-align: top;\n",
       "    }\n",
       "\n",
       "    .dataframe thead th {\n",
       "        text-align: right;\n",
       "    }\n",
       "</style>\n",
       "<table border=\"1\" class=\"dataframe\">\n",
       "  <thead>\n",
       "    <tr style=\"text-align: right;\">\n",
       "      <th></th>\n",
       "      <th>conv1</th>\n",
       "      <th>conv1_1</th>\n",
       "      <th>conv2</th>\n",
       "      <th>conv2_1</th>\n",
       "      <th>conv3</th>\n",
       "      <th>conv3_1</th>\n",
       "      <th>conv3_2</th>\n",
       "      <th>conv4</th>\n",
       "      <th>conv4_1</th>\n",
       "      <th>conv4_2</th>\n",
       "      <th>conv5</th>\n",
       "      <th>conv5_1</th>\n",
       "      <th>conv5_2</th>\n",
       "      <th>fc6</th>\n",
       "      <th>fc7</th>\n",
       "      <th>fc8a</th>\n",
       "    </tr>\n",
       "  </thead>\n",
       "  <tbody>\n",
       "    <tr>\n",
       "      <th>0</th>\n",
       "      <td>-0.983123</td>\n",
       "      <td>-0.972471</td>\n",
       "      <td>-0.969690</td>\n",
       "      <td>-0.932361</td>\n",
       "      <td>-0.870340</td>\n",
       "      <td>-0.867848</td>\n",
       "      <td>-0.861324</td>\n",
       "      <td>-0.792860</td>\n",
       "      <td>-0.836010</td>\n",
       "      <td>-0.784744</td>\n",
       "      <td>-0.770835</td>\n",
       "      <td>-0.837915</td>\n",
       "      <td>-0.801580</td>\n",
       "      <td>-0.912642</td>\n",
       "      <td>-0.904536</td>\n",
       "      <td>-0.849672</td>\n",
       "    </tr>\n",
       "    <tr>\n",
       "      <th>1</th>\n",
       "      <td>-0.988474</td>\n",
       "      <td>-0.970777</td>\n",
       "      <td>-0.970677</td>\n",
       "      <td>-0.946647</td>\n",
       "      <td>-0.920898</td>\n",
       "      <td>-0.911696</td>\n",
       "      <td>-0.896856</td>\n",
       "      <td>-0.846613</td>\n",
       "      <td>-0.840459</td>\n",
       "      <td>-0.799933</td>\n",
       "      <td>-0.826476</td>\n",
       "      <td>-0.891256</td>\n",
       "      <td>-0.900086</td>\n",
       "      <td>-0.964162</td>\n",
       "      <td>-0.961519</td>\n",
       "      <td>-0.962565</td>\n",
       "    </tr>\n",
       "    <tr>\n",
       "      <th>2</th>\n",
       "      <td>-0.989495</td>\n",
       "      <td>-0.973141</td>\n",
       "      <td>-0.974408</td>\n",
       "      <td>-0.953882</td>\n",
       "      <td>-0.930552</td>\n",
       "      <td>-0.923199</td>\n",
       "      <td>-0.912643</td>\n",
       "      <td>-0.869097</td>\n",
       "      <td>-0.878391</td>\n",
       "      <td>-0.830931</td>\n",
       "      <td>-0.818602</td>\n",
       "      <td>-0.889172</td>\n",
       "      <td>-0.871852</td>\n",
       "      <td>-0.951417</td>\n",
       "      <td>-0.935921</td>\n",
       "      <td>-0.919300</td>\n",
       "    </tr>\n",
       "    <tr>\n",
       "      <th>3</th>\n",
       "      <td>-0.989586</td>\n",
       "      <td>-0.980083</td>\n",
       "      <td>-0.977478</td>\n",
       "      <td>-0.946990</td>\n",
       "      <td>-0.907716</td>\n",
       "      <td>-0.904630</td>\n",
       "      <td>-0.890270</td>\n",
       "      <td>-0.855537</td>\n",
       "      <td>-0.864602</td>\n",
       "      <td>-0.815427</td>\n",
       "      <td>-0.821811</td>\n",
       "      <td>-0.884210</td>\n",
       "      <td>-0.901800</td>\n",
       "      <td>-0.961100</td>\n",
       "      <td>-0.958398</td>\n",
       "      <td>-0.965751</td>\n",
       "    </tr>\n",
       "    <tr>\n",
       "      <th>4</th>\n",
       "      <td>-0.991258</td>\n",
       "      <td>-0.981188</td>\n",
       "      <td>-0.978538</td>\n",
       "      <td>-0.949577</td>\n",
       "      <td>-0.909039</td>\n",
       "      <td>-0.907792</td>\n",
       "      <td>-0.890851</td>\n",
       "      <td>-0.865774</td>\n",
       "      <td>-0.892154</td>\n",
       "      <td>-0.851080</td>\n",
       "      <td>-0.847102</td>\n",
       "      <td>-0.883068</td>\n",
       "      <td>-0.875207</td>\n",
       "      <td>-0.959389</td>\n",
       "      <td>-0.953732</td>\n",
       "      <td>-0.941918</td>\n",
       "    </tr>\n",
       "    <tr>\n",
       "      <th>...</th>\n",
       "      <td>...</td>\n",
       "      <td>...</td>\n",
       "      <td>...</td>\n",
       "      <td>...</td>\n",
       "      <td>...</td>\n",
       "      <td>...</td>\n",
       "      <td>...</td>\n",
       "      <td>...</td>\n",
       "      <td>...</td>\n",
       "      <td>...</td>\n",
       "      <td>...</td>\n",
       "      <td>...</td>\n",
       "      <td>...</td>\n",
       "      <td>...</td>\n",
       "      <td>...</td>\n",
       "      <td>...</td>\n",
       "    </tr>\n",
       "    <tr>\n",
       "      <th>245</th>\n",
       "      <td>-0.983311</td>\n",
       "      <td>-0.962983</td>\n",
       "      <td>-0.963242</td>\n",
       "      <td>-0.941431</td>\n",
       "      <td>-0.901636</td>\n",
       "      <td>-0.887660</td>\n",
       "      <td>-0.869910</td>\n",
       "      <td>-0.783837</td>\n",
       "      <td>-0.774626</td>\n",
       "      <td>-0.718336</td>\n",
       "      <td>-0.725431</td>\n",
       "      <td>-0.791481</td>\n",
       "      <td>-0.790926</td>\n",
       "      <td>-0.913020</td>\n",
       "      <td>-0.891236</td>\n",
       "      <td>-0.835036</td>\n",
       "    </tr>\n",
       "    <tr>\n",
       "      <th>246</th>\n",
       "      <td>-0.986610</td>\n",
       "      <td>-0.972127</td>\n",
       "      <td>-0.971881</td>\n",
       "      <td>-0.945548</td>\n",
       "      <td>-0.913277</td>\n",
       "      <td>-0.908537</td>\n",
       "      <td>-0.895740</td>\n",
       "      <td>-0.879633</td>\n",
       "      <td>-0.882571</td>\n",
       "      <td>-0.847796</td>\n",
       "      <td>-0.875402</td>\n",
       "      <td>-0.908133</td>\n",
       "      <td>-0.921162</td>\n",
       "      <td>-0.973889</td>\n",
       "      <td>-0.973316</td>\n",
       "      <td>-0.976925</td>\n",
       "    </tr>\n",
       "    <tr>\n",
       "      <th>247</th>\n",
       "      <td>-0.989653</td>\n",
       "      <td>-0.983949</td>\n",
       "      <td>-0.977510</td>\n",
       "      <td>-0.941544</td>\n",
       "      <td>-0.882314</td>\n",
       "      <td>-0.889077</td>\n",
       "      <td>-0.883545</td>\n",
       "      <td>-0.843965</td>\n",
       "      <td>-0.871419</td>\n",
       "      <td>-0.835822</td>\n",
       "      <td>-0.812478</td>\n",
       "      <td>-0.860232</td>\n",
       "      <td>-0.848119</td>\n",
       "      <td>-0.924650</td>\n",
       "      <td>-0.888101</td>\n",
       "      <td>-0.843361</td>\n",
       "    </tr>\n",
       "    <tr>\n",
       "      <th>248</th>\n",
       "      <td>-0.990375</td>\n",
       "      <td>-0.972764</td>\n",
       "      <td>-0.980901</td>\n",
       "      <td>-0.960154</td>\n",
       "      <td>-0.939933</td>\n",
       "      <td>-0.937857</td>\n",
       "      <td>-0.932748</td>\n",
       "      <td>-0.895055</td>\n",
       "      <td>-0.914636</td>\n",
       "      <td>-0.876649</td>\n",
       "      <td>-0.894824</td>\n",
       "      <td>-0.943529</td>\n",
       "      <td>-0.931882</td>\n",
       "      <td>-0.975520</td>\n",
       "      <td>-0.972920</td>\n",
       "      <td>-0.968108</td>\n",
       "    </tr>\n",
       "    <tr>\n",
       "      <th>249</th>\n",
       "      <td>-0.995635</td>\n",
       "      <td>-0.990272</td>\n",
       "      <td>-0.986379</td>\n",
       "      <td>-0.960376</td>\n",
       "      <td>-0.929502</td>\n",
       "      <td>-0.935153</td>\n",
       "      <td>-0.920638</td>\n",
       "      <td>-0.900751</td>\n",
       "      <td>-0.918813</td>\n",
       "      <td>-0.882179</td>\n",
       "      <td>-0.889934</td>\n",
       "      <td>-0.932338</td>\n",
       "      <td>-0.925461</td>\n",
       "      <td>-0.967022</td>\n",
       "      <td>-0.955408</td>\n",
       "      <td>-0.949287</td>\n",
       "    </tr>\n",
       "  </tbody>\n",
       "</table>\n",
       "<p>250 rows × 16 columns</p>\n",
       "</div>"
      ],
      "text/plain": [
       "        conv1   conv1_1     conv2   conv2_1     conv3   conv3_1   conv3_2  \\\n",
       "0   -0.983123 -0.972471 -0.969690 -0.932361 -0.870340 -0.867848 -0.861324   \n",
       "1   -0.988474 -0.970777 -0.970677 -0.946647 -0.920898 -0.911696 -0.896856   \n",
       "2   -0.989495 -0.973141 -0.974408 -0.953882 -0.930552 -0.923199 -0.912643   \n",
       "3   -0.989586 -0.980083 -0.977478 -0.946990 -0.907716 -0.904630 -0.890270   \n",
       "4   -0.991258 -0.981188 -0.978538 -0.949577 -0.909039 -0.907792 -0.890851   \n",
       "..        ...       ...       ...       ...       ...       ...       ...   \n",
       "245 -0.983311 -0.962983 -0.963242 -0.941431 -0.901636 -0.887660 -0.869910   \n",
       "246 -0.986610 -0.972127 -0.971881 -0.945548 -0.913277 -0.908537 -0.895740   \n",
       "247 -0.989653 -0.983949 -0.977510 -0.941544 -0.882314 -0.889077 -0.883545   \n",
       "248 -0.990375 -0.972764 -0.980901 -0.960154 -0.939933 -0.937857 -0.932748   \n",
       "249 -0.995635 -0.990272 -0.986379 -0.960376 -0.929502 -0.935153 -0.920638   \n",
       "\n",
       "        conv4   conv4_1   conv4_2     conv5   conv5_1   conv5_2       fc6  \\\n",
       "0   -0.792860 -0.836010 -0.784744 -0.770835 -0.837915 -0.801580 -0.912642   \n",
       "1   -0.846613 -0.840459 -0.799933 -0.826476 -0.891256 -0.900086 -0.964162   \n",
       "2   -0.869097 -0.878391 -0.830931 -0.818602 -0.889172 -0.871852 -0.951417   \n",
       "3   -0.855537 -0.864602 -0.815427 -0.821811 -0.884210 -0.901800 -0.961100   \n",
       "4   -0.865774 -0.892154 -0.851080 -0.847102 -0.883068 -0.875207 -0.959389   \n",
       "..        ...       ...       ...       ...       ...       ...       ...   \n",
       "245 -0.783837 -0.774626 -0.718336 -0.725431 -0.791481 -0.790926 -0.913020   \n",
       "246 -0.879633 -0.882571 -0.847796 -0.875402 -0.908133 -0.921162 -0.973889   \n",
       "247 -0.843965 -0.871419 -0.835822 -0.812478 -0.860232 -0.848119 -0.924650   \n",
       "248 -0.895055 -0.914636 -0.876649 -0.894824 -0.943529 -0.931882 -0.975520   \n",
       "249 -0.900751 -0.918813 -0.882179 -0.889934 -0.932338 -0.925461 -0.967022   \n",
       "\n",
       "          fc7      fc8a  \n",
       "0   -0.904536 -0.849672  \n",
       "1   -0.961519 -0.962565  \n",
       "2   -0.935921 -0.919300  \n",
       "3   -0.958398 -0.965751  \n",
       "4   -0.953732 -0.941918  \n",
       "..        ...       ...  \n",
       "245 -0.891236 -0.835036  \n",
       "246 -0.973316 -0.976925  \n",
       "247 -0.888101 -0.843361  \n",
       "248 -0.972920 -0.968108  \n",
       "249 -0.955408 -0.949287  \n",
       "\n",
       "[250 rows x 16 columns]"
      ]
     },
     "execution_count": 8,
     "metadata": {},
     "output_type": "execute_result"
    }
   ],
   "source": [
    "results_vgg16"
   ]
  },
  {
   "cell_type": "code",
   "execution_count": 12,
   "metadata": {},
   "outputs": [
    {
     "data": {
      "text/plain": [
       "0      86.00\n",
       "1      70.76\n",
       "2      33.68\n",
       "3      35.84\n",
       "4      40.72\n",
       "       ...  \n",
       "245    60.76\n",
       "246    38.52\n",
       "247    65.24\n",
       "248    56.44\n",
       "249    62.48\n",
       "Length: 250, dtype: float64"
      ]
     },
     "execution_count": 12,
     "metadata": {},
     "output_type": "execute_result"
    }
   ],
   "source": [
    "places_images.beauty_ratings"
   ]
  },
  {
   "cell_type": "markdown",
   "metadata": {},
   "source": [
    "# Inspect models (export data to matlab)"
   ]
  },
  {
   "cell_type": "markdown",
   "metadata": {},
   "source": [
    "## Model parameters"
   ]
  },
  {
   "cell_type": "code",
   "execution_count": 18,
   "metadata": {},
   "outputs": [],
   "source": [
    "state = dict(vgg16_places.state_dict())\n",
    "savemat('../matlab analysis/PyVGG16_parameters.mat', {k.replace('.','_'):v.squeeze().detach().numpy() for k,v in state.items()}) # cant export variable names with . in them"
   ]
  },
  {
   "cell_type": "markdown",
   "metadata": {},
   "source": [
    "## Activations to tensor of ones"
   ]
  },
  {
   "cell_type": "code",
   "execution_count": 36,
   "metadata": {},
   "outputs": [],
   "source": [
    "one = torch.ones(1, 3, 224, 224).float()\n",
    "one_response = vgg16_places_fe(one)\n",
    "one_response = {key:value.squeeze().detach().numpy() for key,value in one_response.items()}\n",
    "savemat('../matlab analysis/activations_onetensor.mat', one_response)"
   ]
  },
  {
   "cell_type": "markdown",
   "metadata": {},
   "source": [
    "## Activations to tensor of hundrets"
   ]
  },
  {
   "cell_type": "code",
   "execution_count": 166,
   "metadata": {},
   "outputs": [],
   "source": [
    "pass"
   ]
  },
  {
   "cell_type": "markdown",
   "metadata": {},
   "source": [
    "## Activations to image 1153"
   ]
  },
  {
   "cell_type": "code",
   "execution_count": null,
   "metadata": {},
   "outputs": [],
   "source": [
    "\"\"\"\n",
    "Check if activation (matlab) and feature extraction (pytorch) return the same values\n",
    "Can check also only correlations, which would include checking the image transformations. \n",
    "\n",
    "\"\"\""
   ]
  },
  {
   "cell_type": "code",
   "execution_count": 165,
   "metadata": {},
   "outputs": [
    {
     "data": {
      "text/plain": [
       "torch.Size([1, 3, 224, 224])"
      ]
     },
     "execution_count": 165,
     "metadata": {},
     "output_type": "execute_result"
    }
   ],
   "source": [
    "# old code, maybe need this later for investigating why it produces such different activations \n",
    "#im = torchvision.io.read_image('./data/stimuli_places1/Places365_val_00001153.jpg')\n",
    "#im = torchvision.transforms.Resize(size=(224,224))(im)\n",
    "#im = im.unsqueeze(0)\n",
    "#im.shape"
   ]
  },
  {
   "cell_type": "code",
   "execution_count": 168,
   "metadata": {},
   "outputs": [
    {
     "data": {
      "text/plain": [
       "torch.Size([1, 3, 224, 224])"
      ]
     },
     "execution_count": 168,
     "metadata": {},
     "output_type": "execute_result"
    }
   ],
   "source": [
    "# Import resized img1153 from matlab\n",
    "img = torch.tensor(loadmat('./stimuli_places1_resized/Places365_val_00001153.mat')['im'])\n",
    "img = img.permute((2, 0, 1))\n",
    "img = img.unsqueeze(0)\n",
    "img = img.float()\n",
    "img.shape"
   ]
  },
  {
   "cell_type": "code",
   "execution_count": 116,
   "metadata": {},
   "outputs": [],
   "source": [
    "img_act = vgg16_places_fe(img)"
   ]
  },
  {
   "cell_type": "code",
   "execution_count": 121,
   "metadata": {},
   "outputs": [],
   "source": [
    "savemat('../matlab analysis/py_activations1153.mat', {key:value.squeeze().detach().numpy() for key,value in img_act.items()})"
   ]
  },
  {
   "cell_type": "markdown",
   "metadata": {},
   "source": [
    "## Predictions (without feature extractor)"
   ]
  },
  {
   "cell_type": "markdown",
   "metadata": {},
   "source": [
    "### Predictions for img1153"
   ]
  },
  {
   "cell_type": "code",
   "execution_count": 162,
   "metadata": {},
   "outputs": [
    {
     "data": {
      "text/plain": [
       "torch.Size([1, 365])"
      ]
     },
     "execution_count": 162,
     "metadata": {},
     "output_type": "execute_result"
    }
   ],
   "source": [
    "output = vgg16_places(matim_newr)\n",
    "output.shape"
   ]
  },
  {
   "cell_type": "code",
   "execution_count": 163,
   "metadata": {},
   "outputs": [
    {
     "data": {
      "text/plain": [
       "tensor([[0.7870, 0.0580, 0.0510, 0.0330, 0.0110, 0.0070, 0.0060, 0.0060, 0.0050,\n",
       "         0.0040, 0.0040, 0.0040, 0.0040, 0.0020, 0.0020, 0.0020, 0.0010, 0.0010,\n",
       "         0.0010, 0.0010, 0.0010, 0.0010, 0.0010, 0.0010, 0.0000, 0.0000, 0.0000,\n",
       "         0.0000, 0.0000, 0.0000, 0.0000, 0.0000, 0.0000, 0.0000, 0.0000, 0.0000,\n",
       "         0.0000, 0.0000, 0.0000, 0.0000, 0.0000, 0.0000, 0.0000, 0.0000, 0.0000,\n",
       "         0.0000, 0.0000, 0.0000, 0.0000, 0.0000, 0.0000, 0.0000, 0.0000, 0.0000,\n",
       "         0.0000, 0.0000, 0.0000, 0.0000, 0.0000, 0.0000, 0.0000, 0.0000, 0.0000,\n",
       "         0.0000, 0.0000, 0.0000, 0.0000, 0.0000, 0.0000, 0.0000, 0.0000, 0.0000,\n",
       "         0.0000, 0.0000, 0.0000, 0.0000, 0.0000, 0.0000, 0.0000, 0.0000, 0.0000,\n",
       "         0.0000, 0.0000, 0.0000, 0.0000, 0.0000, 0.0000, 0.0000, 0.0000, 0.0000,\n",
       "         0.0000, 0.0000, 0.0000, 0.0000, 0.0000, 0.0000, 0.0000, 0.0000, 0.0000,\n",
       "         0.0000, 0.0000, 0.0000, 0.0000, 0.0000, 0.0000, 0.0000, 0.0000, 0.0000,\n",
       "         0.0000, 0.0000, 0.0000, 0.0000, 0.0000, 0.0000, 0.0000, 0.0000, 0.0000,\n",
       "         0.0000, 0.0000, 0.0000, 0.0000, 0.0000, 0.0000, 0.0000, 0.0000, 0.0000,\n",
       "         0.0000, 0.0000, 0.0000, 0.0000, 0.0000, 0.0000, 0.0000, 0.0000, 0.0000,\n",
       "         0.0000, 0.0000, 0.0000, 0.0000, 0.0000, 0.0000, 0.0000, 0.0000, 0.0000,\n",
       "         0.0000, 0.0000, 0.0000, 0.0000, 0.0000, 0.0000, 0.0000, 0.0000, 0.0000,\n",
       "         0.0000, 0.0000, 0.0000, 0.0000, 0.0000, 0.0000, 0.0000, 0.0000, 0.0000,\n",
       "         0.0000, 0.0000, 0.0000, 0.0000, 0.0000, 0.0000, 0.0000, 0.0000, 0.0000,\n",
       "         0.0000, 0.0000, 0.0000, 0.0000, 0.0000, 0.0000, 0.0000, 0.0000, 0.0000,\n",
       "         0.0000, 0.0000, 0.0000, 0.0000, 0.0000, 0.0000, 0.0000, 0.0000, 0.0000,\n",
       "         0.0000, 0.0000, 0.0000, 0.0000, 0.0000, 0.0000, 0.0000, 0.0000, 0.0000,\n",
       "         0.0000, 0.0000, 0.0000, 0.0000, 0.0000, 0.0000, 0.0000, 0.0000, 0.0000,\n",
       "         0.0000, 0.0000, 0.0000, 0.0000, 0.0000, 0.0000, 0.0000, 0.0000, 0.0000,\n",
       "         0.0000, 0.0000, 0.0000, 0.0000, 0.0000, 0.0000, 0.0000, 0.0000, 0.0000,\n",
       "         0.0000, 0.0000, 0.0000, 0.0000, 0.0000, 0.0000, 0.0000, 0.0000, 0.0000,\n",
       "         0.0000, 0.0000, 0.0000, 0.0000, 0.0000, 0.0000, 0.0000, 0.0000, 0.0000,\n",
       "         0.0000, 0.0000, 0.0000, 0.0000, 0.0000, 0.0000, 0.0000, 0.0000, 0.0000,\n",
       "         0.0000, 0.0000, 0.0000, 0.0000, 0.0000, 0.0000, 0.0000, 0.0000, 0.0000,\n",
       "         0.0000, 0.0000, 0.0000, 0.0000, 0.0000, 0.0000, 0.0000, 0.0000, 0.0000,\n",
       "         0.0000, 0.0000, 0.0000, 0.0000, 0.0000, 0.0000, 0.0000, 0.0000, 0.0000,\n",
       "         0.0000, 0.0000, 0.0000, 0.0000, 0.0000, 0.0000, 0.0000, 0.0000, 0.0000,\n",
       "         0.0000, 0.0000, 0.0000, 0.0000, 0.0000, 0.0000, 0.0000, 0.0000, 0.0000,\n",
       "         0.0000, 0.0000, 0.0000, 0.0000, 0.0000, 0.0000, 0.0000, 0.0000, 0.0000,\n",
       "         0.0000, 0.0000, 0.0000, 0.0000, 0.0000, 0.0000, 0.0000, 0.0000, 0.0000,\n",
       "         0.0000, 0.0000, 0.0000, 0.0000, 0.0000, 0.0000, 0.0000, 0.0000, 0.0000,\n",
       "         0.0000, 0.0000, 0.0000, 0.0000, 0.0000, 0.0000, 0.0000, 0.0000, 0.0000,\n",
       "         0.0000, 0.0000, 0.0000, 0.0000, 0.0000, 0.0000, 0.0000, 0.0000, 0.0000,\n",
       "         0.0000, 0.0000, 0.0000, 0.0000, 0.0000, 0.0000, 0.0000, 0.0000, 0.0000,\n",
       "         0.0000, 0.0000, 0.0000, 0.0000, 0.0000, 0.0000, 0.0000, 0.0000, 0.0000,\n",
       "         0.0000, 0.0000, 0.0000, 0.0000, 0.0000]], grad_fn=<RoundBackward1>)"
      ]
     },
     "execution_count": 163,
     "metadata": {},
     "output_type": "execute_result"
    }
   ],
   "source": [
    "sorted, indices = torch.sort(output, descending=True)\n",
    "torch.round(sorted, decimals=3)"
   ]
  },
  {
   "cell_type": "code",
   "execution_count": 164,
   "metadata": {},
   "outputs": [
    {
     "data": {
      "text/plain": [
       "tensor([[355, 324, 110, 288, 154, 279, 167, 357, 180, 113, 205, 271, 356, 243,\n",
       "          94,  97, 277, 150,  81,   9, 232,  62, 342, 145, 344,  78, 323, 204,\n",
       "         224, 353, 197,  48, 151, 265, 187, 229,  36,   7,  79,  73, 111, 350,\n",
       "         164, 266, 254, 186, 218, 325, 190, 141, 303, 214, 171, 137, 163,  10,\n",
       "         326, 338, 152, 306, 194, 362, 307,  57, 249, 234, 153, 258, 233, 125,\n",
       "         340, 122, 291,  30, 209,  85,  66, 195,  69, 354, 292,  96,  58,  50,\n",
       "         247,  76, 334, 245, 117,  84, 347,  95, 116, 339,  59, 191, 251, 127,\n",
       "         289, 270, 131, 294,  86, 330, 364, 220,   5,  21, 259,   8, 348, 309,\n",
       "         310, 142,  53, 345, 358, 236, 360, 140, 193, 276, 305, 206,  68, 160,\n",
       "         359, 308,  39, 268,  31,  56, 159,  83, 287,  43, 181, 252,  12, 278,\n",
       "          45, 126, 261, 184,  13, 175,  88, 317, 215, 275, 297, 333,  63, 179,\n",
       "          77, 104, 149, 349,  34,  16, 255,  35, 346,  49, 173,  23, 260, 106,\n",
       "          52, 257,  19, 136, 295, 319, 273,   4, 322,  80, 302, 253, 196, 314,\n",
       "         162, 217, 112, 274,  60, 341, 311,  24,  82, 351, 226, 146, 230, 165,\n",
       "          38, 135, 118,  42, 189, 313, 103,  91,  28, 192,  41,  14, 182, 188,\n",
       "         105, 166,  67,  51,  89, 315, 300,  17,  74, 199, 203,  20, 109, 312,\n",
       "         147, 299, 222, 108,  72,  27, 172,  64,   6, 169, 133, 284, 212, 143,\n",
       "           2, 202, 144, 168, 248, 361, 298,  25, 178, 335, 272, 283, 128, 138,\n",
       "         304, 321, 239, 256, 237, 285,  29, 213, 198, 238, 156, 343, 115, 223,\n",
       "         281,  46,  32, 293,  54,  26, 207,  70, 269,  99, 124, 320, 352, 225,\n",
       "         130, 148, 208, 158, 331, 241, 120,  22, 227, 219, 282, 242, 240, 102,\n",
       "         174, 201, 176, 328, 318, 121,  47,   0, 231, 132, 301, 185,  40, 250,\n",
       "           1,   3, 286, 264,  65,  71,  90, 337,  87, 244,  44, 200, 221, 263,\n",
       "          18,  75, 100, 161, 246,  11, 280,  55, 157, 155,  93, 123, 262, 114,\n",
       "         363, 107, 235,  61,  92, 316, 119, 290, 329, 296,  98,  15, 183, 134,\n",
       "         332, 336, 129, 139, 211, 101,  37, 210,  33, 177, 327, 216, 267, 228,\n",
       "         170]])"
      ]
     },
     "execution_count": 164,
     "metadata": {},
     "output_type": "execute_result"
    }
   ],
   "source": [
    "indices"
   ]
  }
 ],
 "metadata": {
  "kernelspec": {
   "display_name": "PytorchEnv",
   "language": "python",
   "name": "python3"
  },
  "language_info": {
   "codemirror_mode": {
    "name": "ipython",
    "version": 3
   },
   "file_extension": ".py",
   "mimetype": "text/x-python",
   "name": "python",
   "nbconvert_exporter": "python",
   "pygments_lexer": "ipython3",
   "version": "3.8.19"
  }
 },
 "nbformat": 4,
 "nbformat_minor": 2
}
