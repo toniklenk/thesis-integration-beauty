{
 "cells": [
  {
   "cell_type": "code",
   "execution_count": 5,
   "metadata": {},
   "outputs": [],
   "source": [
    "import classes_taskonomy as classes\n",
    "\n",
    "# modified visualpriors library\n",
    "from transforms import VisualPriorRepresentation\n",
    "\n",
    "import os\n",
    "import pandas as pd\n",
    "\n",
    "import torch.utils.model_zoo # required to load nets\n",
    "from torchvision.models.feature_extraction import get_graph_node_names, create_feature_extractor"
   ]
  },
  {
   "cell_type": "code",
   "execution_count": 6,
   "metadata": {},
   "outputs": [],
   "source": [
    "DATASET_NAMES = ('places1', 'places2', 'oasis')\n",
    "SCALE_NAMES = ('scale2','scale4','scale8','scale16','scale32')"
   ]
  },
  {
   "cell_type": "code",
   "execution_count": 3,
   "metadata": {},
   "outputs": [],
   "source": [
    "DATA_PATH = './data_256x256'\n",
    "BEHAVIOR_PATH = './behavior'\n",
    "RESULTS_PATH = './results_taskonomy'"
   ]
  },
  {
   "cell_type": "code",
   "execution_count": 4,
   "metadata": {},
   "outputs": [],
   "source": [
    "#VisualPrior.viable_feature_tasks\n",
    "MODEL_NAMES = ('autoencoding','depth_euclidean','jigsaw','reshading',\n",
    "               'edge_occlusion','keypoints2d','room_layout', #'colorization' currently not working\n",
    "               'curvature','edge_texture','keypoints3d','segment_unsup2d',\n",
    "               'class_object','egomotion','nonfixated_pose','segment_unsup25d',\n",
    "               'class_scene','fixated_pose','normal','segment_semantic',\n",
    "               'denoising','inpainting','point_matching','vanishing_point')\n"
   ]
  },
  {
   "cell_type": "code",
   "execution_count": 5,
   "metadata": {},
   "outputs": [],
   "source": [
    "IMAGE_TRANSFORMS = ('untransformed')"
   ]
  },
  {
   "cell_type": "code",
   "execution_count": 11,
   "metadata": {},
   "outputs": [],
   "source": [
    "# create folder structure for image\n",
    "for dataset_name in DATASET_NAMES:\n",
    "    for scale_name in SCALE_NAMES:\n",
    "        for version_name in ('full','version1','version2'):\n",
    "            os.makedirs(os.path.join(DATA_PATH, dataset_name, scale_name, version_name))"
   ]
  },
  {
   "cell_type": "code",
   "execution_count": 9,
   "metadata": {},
   "outputs": [],
   "source": [
    "# create folder structure for results\n",
    "for model_name in MODEL_NAMES:\n",
    "    for dataset_name in DATASET_NAMES:\n",
    "        for scale_name in SCALE_NAMES:\n",
    "            dir_path = os.path.join(RESULTS_PATH, model_name, dataset_name, scale_name)\n",
    "            os.makedirs(dir_path)"
   ]
  },
  {
   "cell_type": "code",
   "execution_count": 7,
   "metadata": {},
   "outputs": [],
   "source": [
    "# create folder strucutre for Pytorch -> Matlab converted results\n",
    "for model_name in MODEL_NAMES:\n",
    "    os.makedirs(os.path.join('../matlab analysis', 'data taskonomy', model_name))\n"
   ]
  },
  {
   "cell_type": "code",
   "execution_count": 10,
   "metadata": {},
   "outputs": [
    {
     "name": "stdout",
     "output_type": "stream",
     "text": [
      "keypoints2d\n"
     ]
    },
    {
     "name": "stderr",
     "output_type": "stream",
     "text": [
      "Downloading: \"https://github.com/alexsax/visual-prior/raw/networks/assets/pytorch/keypoints2d_encoder-6b77695acff4c84091c484a7b128a1e28a7e9c36243eda278598f582cf667fe0.pth\" to /home/max/.cache/torch/hub/checkpoints/keypoints2d_encoder-6b77695acff4c84091c484a7b128a1e28a7e9c36243eda278598f582cf667fe0.pth\n",
      "100%|██████████| 90.5M/90.5M [00:02<00:00, 44.4MB/s]\n"
     ]
    },
    {
     "name": "stdout",
     "output_type": "stream",
     "text": [
      "places1\n",
      "places2\n",
      "oasis\n",
      "room_layout\n"
     ]
    },
    {
     "name": "stderr",
     "output_type": "stream",
     "text": [
      "Downloading: \"https://github.com/alexsax/visual-prior/raw/networks/assets/pytorch/room_layout_encoder-1e1662f43b834261464b1825227a04efba59b50cc8883bee9adc3ddafd4796c1.pth\" to /home/max/.cache/torch/hub/checkpoints/room_layout_encoder-1e1662f43b834261464b1825227a04efba59b50cc8883bee9adc3ddafd4796c1.pth\n",
      "100%|██████████| 90.5M/90.5M [00:01<00:00, 65.5MB/s]\n"
     ]
    },
    {
     "name": "stdout",
     "output_type": "stream",
     "text": [
      "places1\n",
      "places2\n",
      "oasis\n",
      "curvature\n"
     ]
    },
    {
     "name": "stderr",
     "output_type": "stream",
     "text": [
      "Downloading: \"https://github.com/alexsax/visual-prior/raw/networks/assets/pytorch/curvature_encoder-3767cf5d06d9c6bca859631eb5a3c368d66abeb15542171b94188ffbe47d7571.pth\" to /home/max/.cache/torch/hub/checkpoints/curvature_encoder-3767cf5d06d9c6bca859631eb5a3c368d66abeb15542171b94188ffbe47d7571.pth\n",
      "100%|██████████| 90.5M/90.5M [00:01<00:00, 53.2MB/s]\n"
     ]
    },
    {
     "name": "stdout",
     "output_type": "stream",
     "text": [
      "places1\n",
      "places2\n",
      "oasis\n",
      "edge_texture\n"
     ]
    },
    {
     "name": "stderr",
     "output_type": "stream",
     "text": [
      "Downloading: \"https://github.com/alexsax/visual-prior/raw/networks/assets/pytorch/edge_texture_encoder-be2d686a6a4dfebe968d16146a17176eba37e29f736d5cd9a714317c93718810.pth\" to /home/max/.cache/torch/hub/checkpoints/edge_texture_encoder-be2d686a6a4dfebe968d16146a17176eba37e29f736d5cd9a714317c93718810.pth\n",
      "100%|██████████| 90.5M/90.5M [00:02<00:00, 34.5MB/s]\n"
     ]
    },
    {
     "name": "stdout",
     "output_type": "stream",
     "text": [
      "places1\n",
      "places2\n",
      "oasis\n",
      "keypoints3d\n"
     ]
    },
    {
     "name": "stderr",
     "output_type": "stream",
     "text": [
      "Downloading: \"https://github.com/alexsax/visual-prior/raw/networks/assets/pytorch/keypoints3d_encoder-7e3f1ec97b82ae30030b7ea4fec2dc606b71497d8c0335d05f0be3dc909d000d.pth\" to /home/max/.cache/torch/hub/checkpoints/keypoints3d_encoder-7e3f1ec97b82ae30030b7ea4fec2dc606b71497d8c0335d05f0be3dc909d000d.pth\n",
      "100%|██████████| 90.5M/90.5M [00:01<00:00, 53.8MB/s]\n"
     ]
    },
    {
     "name": "stdout",
     "output_type": "stream",
     "text": [
      "places1\n",
      "places2\n",
      "oasis\n",
      "segment_unsup2d\n"
     ]
    },
    {
     "name": "stderr",
     "output_type": "stream",
     "text": [
      "Downloading: \"https://github.com/alexsax/visual-prior/raw/networks/assets/pytorch/segment_unsup2d_encoder-b679053a920e8bcabf0cd454606098ae85341e054080f2be29473971d4265964.pth\" to /home/max/.cache/torch/hub/checkpoints/segment_unsup2d_encoder-b679053a920e8bcabf0cd454606098ae85341e054080f2be29473971d4265964.pth\n",
      "100%|██████████| 90.5M/90.5M [00:01<00:00, 69.0MB/s]\n"
     ]
    },
    {
     "name": "stdout",
     "output_type": "stream",
     "text": [
      "places1\n",
      "places2\n",
      "oasis\n",
      "class_object\n"
     ]
    },
    {
     "name": "stderr",
     "output_type": "stream",
     "text": [
      "Downloading: \"https://github.com/alexsax/visual-prior/raw/networks/assets/pytorch/class_object_encoder-4a4e42dad58066039a0d2f9d128bb32e93a7e4aa52edb2d2a07bcdd1a6536c18.pth\" to /home/max/.cache/torch/hub/checkpoints/class_object_encoder-4a4e42dad58066039a0d2f9d128bb32e93a7e4aa52edb2d2a07bcdd1a6536c18.pth\n",
      "100%|██████████| 90.5M/90.5M [00:01<00:00, 59.1MB/s]\n"
     ]
    },
    {
     "name": "stdout",
     "output_type": "stream",
     "text": [
      "places1\n",
      "places2\n",
      "oasis\n",
      "egomotion\n"
     ]
    },
    {
     "name": "stderr",
     "output_type": "stream",
     "text": [
      "Downloading: \"https://github.com/alexsax/visual-prior/raw/networks/assets/pytorch/egomotion_encoder-9aa647c34bf98f9e491e0b37890d77566f6ae35ccf41d9375c674511318d571c.pth\" to /home/max/.cache/torch/hub/checkpoints/egomotion_encoder-9aa647c34bf98f9e491e0b37890d77566f6ae35ccf41d9375c674511318d571c.pth\n",
      "100%|██████████| 90.5M/90.5M [00:01<00:00, 58.2MB/s]\n"
     ]
    },
    {
     "name": "stdout",
     "output_type": "stream",
     "text": [
      "places1\n",
      "places2\n",
      "oasis\n",
      "nonfixated_pose\n"
     ]
    },
    {
     "name": "stderr",
     "output_type": "stream",
     "text": [
      "Downloading: \"https://github.com/alexsax/visual-prior/raw/networks/assets/pytorch/nonfixated_pose_encoder-3433a600ca9ff384b9898e55d86a186d572c2ebbe4701489a373933e3cfd5b8b.pth\" to /home/max/.cache/torch/hub/checkpoints/nonfixated_pose_encoder-3433a600ca9ff384b9898e55d86a186d572c2ebbe4701489a373933e3cfd5b8b.pth\n",
      "100%|██████████| 90.5M/90.5M [00:02<00:00, 45.5MB/s]\n"
     ]
    },
    {
     "name": "stdout",
     "output_type": "stream",
     "text": [
      "places1\n"
     ]
    },
    {
     "ename": "KeyboardInterrupt",
     "evalue": "",
     "output_type": "error",
     "traceback": [
      "\u001b[0;31m---------------------------------------------------------------------------\u001b[0m",
      "\u001b[0;31mKeyboardInterrupt\u001b[0m                         Traceback (most recent call last)",
      "Cell \u001b[0;32mIn[10], line 27\u001b[0m\n\u001b[1;32m     23\u001b[0m correlations\u001b[38;5;241m.\u001b[39mfillna(correlations\u001b[38;5;241m.\u001b[39mmean())\n\u001b[1;32m     24\u001b[0m correlations\u001b[38;5;241m.\u001b[39mto_csv(os\u001b[38;5;241m.\u001b[39mpath\u001b[38;5;241m.\u001b[39mjoin(RESULTS_PATH, model_name, dataset_name, scale_name, \u001b[38;5;124m'\u001b[39m\u001b[38;5;124mcorrelations.csv\u001b[39m\u001b[38;5;124m'\u001b[39m), index\u001b[38;5;241m=\u001b[39m\u001b[38;5;28;01mFalse\u001b[39;00m, header\u001b[38;5;241m=\u001b[39m\u001b[38;5;28;01mFalse\u001b[39;00m)\n\u001b[0;32m---> 27\u001b[0m selfsimilarity \u001b[38;5;241m=\u001b[39m \u001b[43mclasses\u001b[49m\u001b[38;5;241;43m.\u001b[39;49m\u001b[43mcalculate_dataset_self_similarity\u001b[49m\u001b[43m(\u001b[49m\u001b[43mdataset\u001b[49m\u001b[43m,\u001b[49m\u001b[43m \u001b[49m\u001b[43mactivation_extractor\u001b[49m\u001b[43m)\u001b[49m\n\u001b[1;32m     28\u001b[0m selfsimilarity\u001b[38;5;241m.\u001b[39mfillna(selfsimilarity\u001b[38;5;241m.\u001b[39mmean())\n\u001b[1;32m     29\u001b[0m selfsimilarity\u001b[38;5;241m.\u001b[39mto_csv(os\u001b[38;5;241m.\u001b[39mpath\u001b[38;5;241m.\u001b[39mjoin(RESULTS_PATH, model_name, dataset_name, scale_name, \u001b[38;5;124m'\u001b[39m\u001b[38;5;124mselfsimilarity.csv\u001b[39m\u001b[38;5;124m'\u001b[39m), index\u001b[38;5;241m=\u001b[39m\u001b[38;5;28;01mFalse\u001b[39;00m, header\u001b[38;5;241m=\u001b[39m\u001b[38;5;28;01mFalse\u001b[39;00m)\n",
      "File \u001b[0;32m~/Documents/Thesis/Taskonomy Integration/classes_taskonomy.py:106\u001b[0m, in \u001b[0;36mcalculate_dataset_self_similarity\u001b[0;34m(ImageDataset_iterator, net_tweaked)\u001b[0m\n\u001b[1;32m    104\u001b[0m lst \u001b[38;5;241m=\u001b[39m []\n\u001b[1;32m    105\u001b[0m \u001b[38;5;28;01mfor\u001b[39;00m _, img_v1, img_v2 \u001b[38;5;129;01min\u001b[39;00m ImageDataset_iterator:\n\u001b[0;32m--> 106\u001b[0m     lst\u001b[38;5;241m.\u001b[39mappend(\u001b[43mself_similarity\u001b[49m\u001b[43m(\u001b[49m\u001b[43mnet_tweaked\u001b[49m\u001b[43m,\u001b[49m\u001b[43m \u001b[49m\u001b[43mimg_v1\u001b[49m\u001b[43m,\u001b[49m\u001b[43m \u001b[49m\u001b[43mimg_v2\u001b[49m\u001b[43m)\u001b[49m)\n\u001b[1;32m    108\u001b[0m column_names \u001b[38;5;241m=\u001b[39m \u001b[38;5;28mlist\u001b[39m(net_tweaked(torch\u001b[38;5;241m.\u001b[39mzeros(\u001b[38;5;241m1\u001b[39m,\u001b[38;5;241m3\u001b[39m,\u001b[38;5;241m256\u001b[39m,\u001b[38;5;241m256\u001b[39m))\u001b[38;5;241m.\u001b[39mkeys())\n\u001b[1;32m    109\u001b[0m \u001b[38;5;28;01mreturn\u001b[39;00m pd\u001b[38;5;241m.\u001b[39mDataFrame(lst, columns\u001b[38;5;241m=\u001b[39mcolumn_names)\n",
      "File \u001b[0;32m~/Documents/Thesis/Taskonomy Integration/classes_taskonomy.py:97\u001b[0m, in \u001b[0;36mself_similarity\u001b[0;34m(net, img_v1, img_v2)\u001b[0m\n\u001b[1;32m     94\u001b[0m     act_v1_ \u001b[38;5;241m=\u001b[39m act_v1_\u001b[38;5;241m.\u001b[39mflatten()\n\u001b[1;32m     95\u001b[0m     act_v2_ \u001b[38;5;241m=\u001b[39m act_v2_\u001b[38;5;241m.\u001b[39mflatten()\n\u001b[0;32m---> 97\u001b[0m     selfsimilarity[layer] \u001b[38;5;241m=\u001b[39m \u001b[43mpearsonr\u001b[49m\u001b[43m(\u001b[49m\u001b[43mact_v1_\u001b[49m\u001b[43m,\u001b[49m\u001b[43m \u001b[49m\u001b[43mact_v2_\u001b[49m\u001b[43m)\u001b[49m[\u001b[38;5;241m0\u001b[39m]\n\u001b[1;32m     99\u001b[0m \u001b[38;5;28;01mreturn\u001b[39;00m selfsimilarity\n",
      "File \u001b[0;32m~/miniconda3/envs/PytorchEnv/lib/python3.8/site-packages/scipy/stats/_stats_py.py:4056\u001b[0m, in \u001b[0;36mpearsonr\u001b[0;34m(x, y)\u001b[0m\n\u001b[1;32m   3900\u001b[0m \u001b[38;5;28;01mdef\u001b[39;00m \u001b[38;5;21mpearsonr\u001b[39m(x, y):\n\u001b[1;32m   3901\u001b[0m \u001b[38;5;250m    \u001b[39m\u001b[38;5;124mr\u001b[39m\u001b[38;5;124;03m\"\"\"\u001b[39;00m\n\u001b[1;32m   3902\u001b[0m \u001b[38;5;124;03m    Pearson correlation coefficient and p-value for testing non-correlation.\u001b[39;00m\n\u001b[1;32m   3903\u001b[0m \n\u001b[0;32m   (...)\u001b[0m\n\u001b[1;32m   4054\u001b[0m \u001b[38;5;124;03m    than zero which happens in about half of the cases if we sample x and y.\u001b[39;00m\n\u001b[1;32m   4055\u001b[0m \u001b[38;5;124;03m    \"\"\"\u001b[39;00m\n\u001b[0;32m-> 4056\u001b[0m     n \u001b[38;5;241m=\u001b[39m \u001b[38;5;28;43mlen\u001b[39;49m\u001b[43m(\u001b[49m\u001b[43mx\u001b[49m\u001b[43m)\u001b[49m\n\u001b[1;32m   4057\u001b[0m     \u001b[38;5;28;01mif\u001b[39;00m n \u001b[38;5;241m!=\u001b[39m \u001b[38;5;28mlen\u001b[39m(y):\n\u001b[1;32m   4058\u001b[0m         \u001b[38;5;28;01mraise\u001b[39;00m \u001b[38;5;167;01mValueError\u001b[39;00m(\u001b[38;5;124m'\u001b[39m\u001b[38;5;124mx and y must have the same length.\u001b[39m\u001b[38;5;124m'\u001b[39m)\n",
      "File \u001b[0;32m~/miniconda3/envs/PytorchEnv/lib/python3.8/site-packages/torch/_tensor.py:997\u001b[0m, in \u001b[0;36mTensor.__len__\u001b[0;34m(self)\u001b[0m\n\u001b[1;32m    996\u001b[0m \u001b[38;5;28;01mdef\u001b[39;00m \u001b[38;5;21m__len__\u001b[39m(\u001b[38;5;28mself\u001b[39m):\n\u001b[0;32m--> 997\u001b[0m     \u001b[38;5;28;01mif\u001b[39;00m \u001b[43mhas_torch_function_unary\u001b[49m\u001b[43m(\u001b[49m\u001b[38;5;28;43mself\u001b[39;49m\u001b[43m)\u001b[49m:\n\u001b[1;32m    998\u001b[0m         \u001b[38;5;28;01mreturn\u001b[39;00m handle_torch_function(Tensor\u001b[38;5;241m.\u001b[39m\u001b[38;5;21m__len__\u001b[39m, (\u001b[38;5;28mself\u001b[39m,), \u001b[38;5;28mself\u001b[39m)\n\u001b[1;32m    999\u001b[0m     \u001b[38;5;28;01mif\u001b[39;00m \u001b[38;5;28mself\u001b[39m\u001b[38;5;241m.\u001b[39mdim() \u001b[38;5;241m==\u001b[39m \u001b[38;5;241m0\u001b[39m:\n",
      "\u001b[0;31mKeyboardInterrupt\u001b[0m: "
     ]
    }
   ],
   "source": [
    "for model_name in MODEL_NAMES:\n",
    "    print(model_name)\n",
    "\n",
    "    # Import taskonomy model...\n",
    "    VisualPriorRepresentation._load_unloaded_nets([model_name])\n",
    "    net = VisualPriorRepresentation.feature_task_to_net[model_name]\n",
    "    \n",
    "    # ...and create activation extractor from it\n",
    "    _, eval_nodes = get_graph_node_names(net)\n",
    "    return_nodes = { node:node for node in eval_nodes if \"conv\" in node or 'fc' in node}\n",
    "    activation_extractor = create_feature_extractor(net, return_nodes=return_nodes)\n",
    "\n",
    "\n",
    "    for dataset_name in DATASET_NAMES:\n",
    "        print(dataset_name)\n",
    "\n",
    "        for scale_name in SCALE_NAMES:\n",
    "            \n",
    "            dataset = classes.ImageDataset(\n",
    "                os.path.join(DATA_PATH, dataset_name, scale_name))\n",
    "                        \n",
    "            correlations = classes.calculate_dataset_correlation(dataset, activation_extractor)\n",
    "            correlations.fillna(correlations.mean())\n",
    "            correlations.to_csv(os.path.join(RESULTS_PATH, model_name, dataset_name, scale_name, 'correlations.csv'), index=False, header=False)\n",
    "\n",
    "\n",
    "            selfsimilarity = classes.calculate_dataset_self_similarity(dataset, activation_extractor)\n",
    "            selfsimilarity.fillna(selfsimilarity.mean())\n",
    "            selfsimilarity.to_csv(os.path.join(RESULTS_PATH, model_name, dataset_name, scale_name, 'selfsimilarity.csv'), index=False, header=False)\n",
    "\n",
    "            l2norm = classes.calculate_dataset_l2norm(dataset, activation_extractor)\n",
    "            l2norm.fillna(l2norm.mean())\n",
    "            l2norm.to_csv(os.path.join(RESULTS_PATH, model_name, dataset_name, scale_name, 'l2norm.csv'), index=False, header=False)"
   ]
  },
  {
   "cell_type": "code",
   "execution_count": 6,
   "metadata": {},
   "outputs": [
    {
     "name": "stdout",
     "output_type": "stream",
     "text": [
      "autoencoding\n",
      "places1\n"
     ]
    },
    {
     "name": "stderr",
     "output_type": "stream",
     "text": [
      "/home/max/miniconda3/envs/PytorchEnv/lib/python3.8/site-packages/scipy/stats/_stats_py.py:4068: PearsonRConstantInputWarning: An input array is constant; the correlation coefficient is not defined.\n",
      "  warnings.warn(PearsonRConstantInputWarning())\n",
      "/home/max/miniconda3/envs/PytorchEnv/lib/python3.8/site-packages/scipy/stats/_stats_py.py:4068: PearsonRConstantInputWarning: An input array is constant; the correlation coefficient is not defined.\n",
      "  warnings.warn(PearsonRConstantInputWarning())\n",
      "/home/max/miniconda3/envs/PytorchEnv/lib/python3.8/site-packages/scipy/stats/_stats_py.py:4068: PearsonRConstantInputWarning: An input array is constant; the correlation coefficient is not defined.\n",
      "  warnings.warn(PearsonRConstantInputWarning())\n",
      "/home/max/miniconda3/envs/PytorchEnv/lib/python3.8/site-packages/scipy/stats/_stats_py.py:4068: PearsonRConstantInputWarning: An input array is constant; the correlation coefficient is not defined.\n",
      "  warnings.warn(PearsonRConstantInputWarning())\n",
      "/home/max/miniconda3/envs/PytorchEnv/lib/python3.8/site-packages/scipy/stats/_stats_py.py:4068: PearsonRConstantInputWarning: An input array is constant; the correlation coefficient is not defined.\n",
      "  warnings.warn(PearsonRConstantInputWarning())\n"
     ]
    },
    {
     "name": "stdout",
     "output_type": "stream",
     "text": [
      "places2\n",
      "oasis\n",
      "depth_euclidean\n",
      "places1\n",
      "places2\n",
      "oasis\n",
      "jigsaw\n",
      "places1\n",
      "places2\n",
      "oasis\n",
      "reshading\n",
      "places1\n",
      "places2\n",
      "oasis\n",
      "edge_occlusion\n",
      "places1\n",
      "places2\n",
      "oasis\n",
      "keypoints2d\n",
      "places1\n",
      "places2\n",
      "oasis\n",
      "room_layout\n",
      "places1\n",
      "places2\n",
      "oasis\n",
      "curvature\n",
      "places1\n",
      "places2\n",
      "oasis\n",
      "edge_texture\n",
      "places1\n",
      "places2\n",
      "oasis\n",
      "keypoints3d\n",
      "places1\n",
      "places2\n",
      "oasis\n",
      "segment_unsup2d\n",
      "places1\n",
      "places2\n",
      "oasis\n",
      "class_object\n",
      "places1\n",
      "places2\n",
      "oasis\n",
      "egomotion\n",
      "places1\n",
      "places2\n",
      "oasis\n",
      "nonfixated_pose\n",
      "places1\n",
      "places2\n",
      "oasis\n",
      "segment_unsup25d\n",
      "places1\n",
      "places2\n",
      "oasis\n",
      "class_scene\n",
      "places1\n",
      "places2\n",
      "oasis\n",
      "fixated_pose\n",
      "places1\n",
      "places2\n",
      "oasis\n",
      "normal\n",
      "places1\n",
      "places2\n",
      "oasis\n",
      "segment_semantic\n",
      "places1\n",
      "places2\n",
      "oasis\n",
      "denoising\n",
      "places1\n",
      "places2\n",
      "oasis\n",
      "inpainting\n",
      "places1\n",
      "places2\n",
      "oasis\n",
      "point_matching\n",
      "places1\n",
      "places2\n",
      "oasis\n",
      "vanishing_point\n",
      "places1\n",
      "places2\n",
      "oasis\n"
     ]
    }
   ],
   "source": [
    "for model_name in MODEL_NAMES:\n",
    "    print(model_name)\n",
    "\n",
    "    # Import taskonomy model...\n",
    "    VisualPriorRepresentation._load_unloaded_nets([model_name])\n",
    "    net = VisualPriorRepresentation.feature_task_to_net[model_name]\n",
    "    \n",
    "    # ...and create activation extractor from it\n",
    "    _, eval_nodes = get_graph_node_names(net)\n",
    "    return_nodes = { node:node for node in eval_nodes if \"conv\" in node or 'fc' in node}\n",
    "    activation_extractor = create_feature_extractor(net, return_nodes=return_nodes)\n",
    "\n",
    "\n",
    "    for dataset_name in DATASET_NAMES:\n",
    "        print(dataset_name)\n",
    "\n",
    "        for scale_name in SCALE_NAMES:\n",
    "            \n",
    "            dataset = classes.ImageDataset(\n",
    "                os.path.join(DATA_PATH, dataset_name, scale_name))\n",
    "                        \n",
    "            correlations, selfsimilarity, l2norm = classes.calculate_dataset_metrics(dataset, activation_extractor)\n",
    "            \n",
    "            correlations.fillna(correlations.mean())\n",
    "            selfsimilarity.fillna(selfsimilarity.mean())\n",
    "            l2norm.fillna(l2norm.mean())\n",
    "            \n",
    "            correlations.to_csv(os.path.join(RESULTS_PATH, model_name, dataset_name, scale_name, 'correlations.csv'), index=False, header=False)\n",
    "            selfsimilarity.to_csv(os.path.join(RESULTS_PATH, model_name, dataset_name, scale_name, 'selfsimilarity.csv'), index=False, header=False)           \n",
    "            l2norm.to_csv(os.path.join(RESULTS_PATH, model_name, dataset_name, scale_name, 'l2norm.csv'), index=False, header=False)"
   ]
  },
  {
   "cell_type": "markdown",
   "metadata": {},
   "source": [
    "# Linear modelling"
   ]
  },
  {
   "cell_type": "code",
   "execution_count": null,
   "metadata": {},
   "outputs": [],
   "source": [
    "from sklearn.linear_model import LinearRegression\n",
    "from sklearn.preprocessing import StandardScaler\n",
    "from sklearn.model_selection import LeaveOneOut\n",
    "\n",
    "\n",
    "X = StandardScaler().fit_transform(result)\n",
    "y = StandardScaler().fit_transform(pd.DataFrame(places_images.beauty_ratings))\n",
    "X.shape, y.shape\n",
    "loo, predictions = LeaveOneOut(), []\n",
    "\n",
    "for train_idx, predict_idx in loo.split(X):\n",
    "    glm = LinearRegression().fit(X[train_idx], y[train_idx])\n",
    "    predictions.append(glm.predict(X[predict_idx]).item())\n",
    "\n",
    "predictions = pd.Series(predictions)\n",
    "\n",
    "pearsonr(predictions, places_images.beauty_ratings)"
   ]
  }
 ],
 "metadata": {
  "kernelspec": {
   "display_name": "PytorchEnv",
   "language": "python",
   "name": "python3"
  },
  "language_info": {
   "codemirror_mode": {
    "name": "ipython",
    "version": 3
   },
   "file_extension": ".py",
   "mimetype": "text/x-python",
   "name": "python",
   "nbconvert_exporter": "python",
   "pygments_lexer": "ipython3",
   "version": "3.8.19"
  }
 },
 "nbformat": 4,
 "nbformat_minor": 2
}
